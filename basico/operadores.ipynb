{
 "cells": [
  {
   "cell_type": "code",
   "execution_count": null,
   "metadata": {},
   "outputs": [],
   "source": [
    "# Aprendendo python para ciência de dados\n",
    "from platform import python_version\n",
    "\n",
    "python_version()\n",
    "\n",
    "print(\"Aprendizado dos números e operadores em python no jupyter notebok\")\n",
    "python_version()"
   ]
  },
  {
   "cell_type": "code",
   "execution_count": null,
   "metadata": {},
   "outputs": [],
   "source": [
    "# \n",
    "a = 5\n",
    "print(\"a = \",a)\n",
    "b=3\n",
    "print(\"b = \",b)\n",
    "c= 4\n",
    "print(\"c = \",c)"
   ]
  },
  {
   "cell_type": "code",
   "execution_count": null,
   "metadata": {},
   "outputs": [],
   "source": [
    "if (a<b)and(a<c):\n",
    "    print(a)\n",
    "elif (b<a)and(b<c):\n",
    "    print(b)\n",
    "else:\n",
    "    print(c)"
   ]
  },
  {
   "cell_type": "code",
   "execution_count": null,
   "metadata": {},
   "outputs": [],
   "source": []
  },
  {
   "cell_type": "code",
   "execution_count": null,
   "metadata": {},
   "outputs": [],
   "source": [
    "'Oi'\n",
    "print(\"this is the string\")\n",
    "s = 'Um:{c},dois:{b},tres:{a}'.format(c=1,b=2,a=3)\n",
    "print('temos uma %s ' %(s))\n",
    "print(s[0]+s[4])\n",
    "print(s)\n",
    "print(s)\n",
    "data = {'first': 'Hodor', 'last': 'Hodor!'}\n",
    "'{first} {last}'.format(**data)\n",
    "prima = [4,15,23,44,65,89,99]\n",
    "'{d[2]} {d[5]}'.format(d=prima)"
   ]
  },
  {
   "cell_type": "code",
   "execution_count": 31,
   "metadata": {},
   "outputs": [
    {
     "name": "stdout",
     "output_type": "stream",
     "text": [
      "2022-09-23 20:43:52.831534\n",
      "23/09/2022 20:43\n"
     ]
    },
    {
     "data": {
      "text/plain": [
       "'23/09/2022'"
      ]
     },
     "execution_count": 31,
     "metadata": {},
     "output_type": "execute_result"
    }
   ],
   "source": [
    "from datetime import date, datetime\n",
    "dataatual = datetime.now()\n",
    "datahoratexto=dataatual.strftime('%d/%m/%Y %H:%M')\n",
    "print(dataatual)\n",
    "print(datahoratexto)\n",
    "'{:%d/%m/%Y}'.format(date.today())\n"
   ]
  }
 ],
 "metadata": {
  "kernelspec": {
   "display_name": "Python 3.9.12 ('base')",
   "language": "python",
   "name": "python3"
  },
  "language_info": {
   "codemirror_mode": {
    "name": "ipython",
    "version": 3
   },
   "file_extension": ".py",
   "mimetype": "text/x-python",
   "name": "python",
   "nbconvert_exporter": "python",
   "pygments_lexer": "ipython3",
   "version": "3.9.12"
  },
  "orig_nbformat": 4,
  "vscode": {
   "interpreter": {
    "hash": "fb833273add3e7c60eb33c0608260b79a61e072ade6f02cc8d07b0a26eef8ab8"
   }
  }
 },
 "nbformat": 4,
 "nbformat_minor": 2
}
