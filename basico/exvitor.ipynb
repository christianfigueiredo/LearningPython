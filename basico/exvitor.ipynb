{
 "cells": [
  {
   "cell_type": "code",
   "execution_count": null,
   "metadata": {},
   "outputs": [],
   "source": [
    "dia = 24*60\n",
    "listdia = range(0,dia+1)\n",
    "#definido com funcao\n",
    "def par():\n",
    "    for i in range(0,dia+1):\n",
    "        if i%2 == 0:\n",
    "            print(i)\n",
    "        else:\n",
    "            pass        \n",
    "def impar():\n",
    "    for i in range(0,dia):\n",
    "        if i%2 == 1:\n",
    "            print(i)\n",
    "        else:\n",
    "            pass\n",
    "        \n",
    "# definido com lista função range()\n",
    "listaimpares = list(range(1,dia,2))\n",
    "listapares = list(range(0,dia+1,2))  \n",
    "\n",
    "#definido com função anônima - lambda \n",
    "pareslambda = list(filter(lambda valor: (valor % 2 == 0),listdia))\n",
    "impareslambda = list(filter(lambda valor: (valor % 2 == 1),listdia))\n"
   ]
  },
  {
   "cell_type": "code",
   "execution_count": null,
   "metadata": {},
   "outputs": [],
   "source": [
    "print(listapares)"
   ]
  },
  {
   "cell_type": "code",
   "execution_count": null,
   "metadata": {},
   "outputs": [],
   "source": [
    "print(pareslambda)"
   ]
  },
  {
   "cell_type": "code",
   "execution_count": null,
   "metadata": {},
   "outputs": [],
   "source": [
    "\n",
    "par()"
   ]
  },
  {
   "cell_type": "code",
   "execution_count": null,
   "metadata": {},
   "outputs": [],
   "source": [
    "\n",
    "\"\"\" item2 = np.array([[listaimpares],[listapares]])\n",
    "print(item2)\n",
    "item2.shape\n",
    " \"\"\""
   ]
  },
  {
   "cell_type": "code",
   "execution_count": null,
   "metadata": {},
   "outputs": [],
   "source": [
    "def item3():\n",
    "    valor_inicio = int(input(\"Digite o valor inicial: \"))\n",
    "    valor_fim = int(input(\"digite o valor final: \"))\n",
    "    listdia = range(valor_inicio,valor_fim+1)\n",
    "    pareslambda = list(filter(lambda valor: (valor % 2 == 0),listdia))\n",
    "    impareslambda = list(filter(lambda valor: (valor % 2 == 1),listdia))\n",
    "    pares = {'pares': [pareslambda]}\n",
    "    impares = {'impares': impareslambda}\n",
    "    print(pares,impares)  \n",
    " "
   ]
  },
  {
   "cell_type": "code",
   "execution_count": null,
   "metadata": {},
   "outputs": [],
   "source": [
    "item3()"
   ]
  },
  {
   "cell_type": "code",
   "execution_count": null,
   "metadata": {},
   "outputs": [],
   "source": [
    "def item4():\n",
    "    valor_inicio = int(input(\"Digite o valor inicial: \"))\n",
    "    valor_fim = int(input(\"digite o valor final: \"))\n",
    "    listdia = range(valor_inicio,valor_fim+1)\n",
    "    pareslambda = list(filter(lambda valor: (valor % 2 == 0),listdia))\n",
    "    impareslambda = list(filter(lambda valor: (valor % 2 == 1),listdia))\n",
    "    pares = {'pares': pareslambda}\n",
    "    impares = {'impares': impareslambda}\n",
    "    for par, qtds in pares.items():\n",
    "        print(par +\": \")\n",
    "        for qtd in qtds:\n",
    "            print(\"= \" + str(qtd))\n",
    "    for impar, qtds in impares.items():\n",
    "        print(impar +\": \")\n",
    "        for qtd in qtds:\n",
    "            print(\"= \" + str(qtd))  "
   ]
  },
  {
   "cell_type": "code",
   "execution_count": null,
   "metadata": {},
   "outputs": [],
   "source": [
    "item4()\n"
   ]
  },
  {
   "cell_type": "code",
   "execution_count": null,
   "metadata": {},
   "outputs": [],
   "source": [
    "import numpy as np\n",
    "a=np.array(listdia)\n",
    "n_pares = a[a%2==0]\n",
    "n_impares = a[a%2==1]\n",
    "\n",
    "print(n_pares)\n",
    "print(n_impares)"
   ]
  },
  {
   "cell_type": "code",
   "execution_count": null,
   "metadata": {},
   "outputs": [],
   "source": [
    "print(a.sum())\n",
    "print(a.mean())"
   ]
  }
 ],
 "metadata": {
  "kernelspec": {
   "display_name": "Python 3.9.12 ('base')",
   "language": "python",
   "name": "python3"
  },
  "language_info": {
   "codemirror_mode": {
    "name": "ipython",
    "version": 3
   },
   "file_extension": ".py",
   "mimetype": "text/x-python",
   "name": "python",
   "nbconvert_exporter": "python",
   "pygments_lexer": "ipython3",
   "version": "3.9.12"
  },
  "orig_nbformat": 4,
  "vscode": {
   "interpreter": {
    "hash": "fb833273add3e7c60eb33c0608260b79a61e072ade6f02cc8d07b0a26eef8ab8"
   }
  }
 },
 "nbformat": 4,
 "nbformat_minor": 2
}
